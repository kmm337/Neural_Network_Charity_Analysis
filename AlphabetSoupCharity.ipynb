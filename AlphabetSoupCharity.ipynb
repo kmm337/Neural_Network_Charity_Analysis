{
 "cells": [
  {
   "cell_type": "markdown",
   "metadata": {},
   "source": [
    "### Deliverable 1: Preprocessing the Data for a Neural Network"
   ]
  },
  {
   "cell_type": "code",
   "execution_count": 49,
   "metadata": {},
   "outputs": [
    {
     "data": {
      "text/html": [
       "<div>\n",
       "<style scoped>\n",
       "    .dataframe tbody tr th:only-of-type {\n",
       "        vertical-align: middle;\n",
       "    }\n",
       "\n",
       "    .dataframe tbody tr th {\n",
       "        vertical-align: top;\n",
       "    }\n",
       "\n",
       "    .dataframe thead th {\n",
       "        text-align: right;\n",
       "    }\n",
       "</style>\n",
       "<table border=\"1\" class=\"dataframe\">\n",
       "  <thead>\n",
       "    <tr style=\"text-align: right;\">\n",
       "      <th></th>\n",
       "      <th>EIN</th>\n",
       "      <th>NAME</th>\n",
       "      <th>APPLICATION_TYPE</th>\n",
       "      <th>AFFILIATION</th>\n",
       "      <th>CLASSIFICATION</th>\n",
       "      <th>USE_CASE</th>\n",
       "      <th>ORGANIZATION</th>\n",
       "      <th>STATUS</th>\n",
       "      <th>INCOME_AMT</th>\n",
       "      <th>SPECIAL_CONSIDERATIONS</th>\n",
       "      <th>ASK_AMT</th>\n",
       "      <th>IS_SUCCESSFUL</th>\n",
       "    </tr>\n",
       "  </thead>\n",
       "  <tbody>\n",
       "    <tr>\n",
       "      <th>0</th>\n",
       "      <td>10520599</td>\n",
       "      <td>BLUE KNIGHTS MOTORCYCLE CLUB</td>\n",
       "      <td>T10</td>\n",
       "      <td>Independent</td>\n",
       "      <td>C1000</td>\n",
       "      <td>ProductDev</td>\n",
       "      <td>Association</td>\n",
       "      <td>1</td>\n",
       "      <td>0</td>\n",
       "      <td>N</td>\n",
       "      <td>5000</td>\n",
       "      <td>1</td>\n",
       "    </tr>\n",
       "    <tr>\n",
       "      <th>1</th>\n",
       "      <td>10531628</td>\n",
       "      <td>AMERICAN CHESAPEAKE CLUB CHARITABLE TR</td>\n",
       "      <td>T3</td>\n",
       "      <td>Independent</td>\n",
       "      <td>C2000</td>\n",
       "      <td>Preservation</td>\n",
       "      <td>Co-operative</td>\n",
       "      <td>1</td>\n",
       "      <td>1-9999</td>\n",
       "      <td>N</td>\n",
       "      <td>108590</td>\n",
       "      <td>1</td>\n",
       "    </tr>\n",
       "    <tr>\n",
       "      <th>2</th>\n",
       "      <td>10547893</td>\n",
       "      <td>ST CLOUD PROFESSIONAL FIREFIGHTERS</td>\n",
       "      <td>T5</td>\n",
       "      <td>CompanySponsored</td>\n",
       "      <td>C3000</td>\n",
       "      <td>ProductDev</td>\n",
       "      <td>Association</td>\n",
       "      <td>1</td>\n",
       "      <td>0</td>\n",
       "      <td>N</td>\n",
       "      <td>5000</td>\n",
       "      <td>0</td>\n",
       "    </tr>\n",
       "    <tr>\n",
       "      <th>3</th>\n",
       "      <td>10553066</td>\n",
       "      <td>SOUTHSIDE ATHLETIC ASSOCIATION</td>\n",
       "      <td>T3</td>\n",
       "      <td>CompanySponsored</td>\n",
       "      <td>C2000</td>\n",
       "      <td>Preservation</td>\n",
       "      <td>Trust</td>\n",
       "      <td>1</td>\n",
       "      <td>10000-24999</td>\n",
       "      <td>N</td>\n",
       "      <td>6692</td>\n",
       "      <td>1</td>\n",
       "    </tr>\n",
       "    <tr>\n",
       "      <th>4</th>\n",
       "      <td>10556103</td>\n",
       "      <td>GENETIC RESEARCH INSTITUTE OF THE DESERT</td>\n",
       "      <td>T3</td>\n",
       "      <td>Independent</td>\n",
       "      <td>C1000</td>\n",
       "      <td>Heathcare</td>\n",
       "      <td>Trust</td>\n",
       "      <td>1</td>\n",
       "      <td>100000-499999</td>\n",
       "      <td>N</td>\n",
       "      <td>142590</td>\n",
       "      <td>1</td>\n",
       "    </tr>\n",
       "  </tbody>\n",
       "</table>\n",
       "</div>"
      ],
      "text/plain": [
       "        EIN                                      NAME APPLICATION_TYPE  \\\n",
       "0  10520599              BLUE KNIGHTS MOTORCYCLE CLUB              T10   \n",
       "1  10531628    AMERICAN CHESAPEAKE CLUB CHARITABLE TR               T3   \n",
       "2  10547893        ST CLOUD PROFESSIONAL FIREFIGHTERS               T5   \n",
       "3  10553066            SOUTHSIDE ATHLETIC ASSOCIATION               T3   \n",
       "4  10556103  GENETIC RESEARCH INSTITUTE OF THE DESERT               T3   \n",
       "\n",
       "        AFFILIATION CLASSIFICATION      USE_CASE  ORGANIZATION  STATUS  \\\n",
       "0       Independent          C1000    ProductDev   Association       1   \n",
       "1       Independent          C2000  Preservation  Co-operative       1   \n",
       "2  CompanySponsored          C3000    ProductDev   Association       1   \n",
       "3  CompanySponsored          C2000  Preservation         Trust       1   \n",
       "4       Independent          C1000     Heathcare         Trust       1   \n",
       "\n",
       "      INCOME_AMT SPECIAL_CONSIDERATIONS  ASK_AMT  IS_SUCCESSFUL  \n",
       "0              0                      N     5000              1  \n",
       "1         1-9999                      N   108590              1  \n",
       "2              0                      N     5000              0  \n",
       "3    10000-24999                      N     6692              1  \n",
       "4  100000-499999                      N   142590              1  "
      ]
     },
     "execution_count": 49,
     "metadata": {},
     "output_type": "execute_result"
    }
   ],
   "source": [
    "# Import our dependencies\n",
    "from sklearn.model_selection import train_test_split\n",
    "from sklearn.preprocessing import StandardScaler,OneHotEncoder\n",
    "import pandas as pd\n",
    "import tensorflow as tf\n",
    "\n",
    "#  Import and read the charity_data.csv.\n",
    "import pandas as pd \n",
    "application_df = pd.read_csv(\"Resources/charity_data.csv\")\n",
    "application_df.head()"
   ]
  },
  {
   "cell_type": "code",
   "execution_count": 50,
   "metadata": {},
   "outputs": [
    {
     "name": "stdout",
     "output_type": "stream",
     "text": [
      "<class 'pandas.core.frame.DataFrame'>\n"
     ]
    }
   ],
   "source": [
    "print(type(application_df))"
   ]
  },
  {
   "cell_type": "code",
   "execution_count": 51,
   "metadata": {},
   "outputs": [
    {
     "name": "stdout",
     "output_type": "stream",
     "text": [
      "EIN                        int64\n",
      "NAME                      object\n",
      "APPLICATION_TYPE          object\n",
      "AFFILIATION               object\n",
      "CLASSIFICATION            object\n",
      "USE_CASE                  object\n",
      "ORGANIZATION              object\n",
      "STATUS                     int64\n",
      "INCOME_AMT                object\n",
      "SPECIAL_CONSIDERATIONS    object\n",
      "ASK_AMT                    int64\n",
      "IS_SUCCESSFUL              int64\n",
      "dtype: object\n"
     ]
    }
   ],
   "source": [
    "print(application_df.dtypes)"
   ]
  },
  {
   "cell_type": "code",
   "execution_count": 52,
   "metadata": {},
   "outputs": [],
   "source": [
    "# Drop the non-beneficial ID columns, 'EIN' and 'NAME'.\n",
    "application_df.drop([\"EIN\", \"NAME\"], axis=1, inplace=True)\n"
   ]
  },
  {
   "cell_type": "code",
   "execution_count": 53,
   "metadata": {},
   "outputs": [
    {
     "name": "stdout",
     "output_type": "stream",
     "text": [
      "APPLICATION_TYPE            17\n",
      "AFFILIATION                  6\n",
      "CLASSIFICATION              71\n",
      "USE_CASE                     5\n",
      "ORGANIZATION                 4\n",
      "STATUS                       2\n",
      "INCOME_AMT                   9\n",
      "SPECIAL_CONSIDERATIONS       2\n",
      "ASK_AMT                   8747\n",
      "IS_SUCCESSFUL                2\n",
      "dtype: int64\n"
     ]
    }
   ],
   "source": [
    "print(application_df.nunique(axis=0))"
   ]
  },
  {
   "cell_type": "code",
   "execution_count": 54,
   "metadata": {},
   "outputs": [
    {
     "name": "stdout",
     "output_type": "stream",
     "text": [
      "<class 'pandas.core.series.Series'>\n"
     ]
    },
    {
     "data": {
      "text/plain": [
       "T3     27037\n",
       "T4      1542\n",
       "T6      1216\n",
       "T5      1173\n",
       "T19     1065\n",
       "T8       737\n",
       "T7       725\n",
       "T10      528\n",
       "T9       156\n",
       "T13       66\n",
       "T12       27\n",
       "T2        16\n",
       "T25        3\n",
       "T14        3\n",
       "T29        2\n",
       "T15        2\n",
       "T17        1\n",
       "Name: APPLICATION_TYPE, dtype: int64"
      ]
     },
     "execution_count": 54,
     "metadata": {},
     "output_type": "execute_result"
    }
   ],
   "source": [
    "app_type_cnts=application_df[\"APPLICATION_TYPE\"].value_counts(dropna=False)\n",
    "print(type(app_type_cnts))\n",
    "app_type_cnts"
   ]
  },
  {
   "cell_type": "code",
   "execution_count": 55,
   "metadata": {},
   "outputs": [
    {
     "data": {
      "text/plain": [
       "<AxesSubplot:xlabel='APPLICATION_TYPE', ylabel='Density'>"
      ]
     },
     "execution_count": 55,
     "metadata": {},
     "output_type": "execute_result"
    },
    {
     "data": {
      "image/png": "[encoded data removed]",
      "text/plain": [
       "<Figure size 432x288 with 1 Axes>"
      ]
     },
     "metadata": {
      "needs_background": "light"
     },
     "output_type": "display_data"
    }
   ],
   "source": [
    "import seaborn as sns\n",
    "%matplotlib inline\n",
    "sns.kdeplot(app_type_cnts)"
   ]
  },
  {
   "cell_type": "code",
   "execution_count": 56,
   "metadata": {},
   "outputs": [
    {
     "data": {
      "text/plain": [
       "T3       27037\n",
       "T4        1542\n",
       "T6        1216\n",
       "T5        1173\n",
       "T19       1065\n",
       "T8         737\n",
       "T7         725\n",
       "T10        528\n",
       "Other      276\n",
       "Name: APPLICATION_TYPE, dtype: int64"
      ]
     },
     "execution_count": 56,
     "metadata": {},
     "output_type": "execute_result"
    }
   ],
   "source": [
    "# Determine which values to replace if counts are less than ...?\n",
    "replace_application=list(app_type_cnts[app_type_cnts<500].index)\n",
    "\n",
    "# Replace in dataframe\n",
    "for app in replace_application:\n",
    "    application_df.APPLICATION_TYPE = application_df.APPLICATION_TYPE.replace(app,\"Other\")\n",
    "    \n",
    "# Check to make sure binning was successful\n",
    "application_df.APPLICATION_TYPE.value_counts()"
   ]
  },
  {
   "cell_type": "code",
   "execution_count": 57,
   "metadata": {},
   "outputs": [
    {
     "name": "stdout",
     "output_type": "stream",
     "text": [
      "<class 'pandas.core.series.Series'>\n"
     ]
    },
    {
     "data": {
      "text/plain": [
       "C1000    17326\n",
       "C2000     6074\n",
       "C1200     4837\n",
       "C3000     1918\n",
       "C2100     1883\n",
       "         ...  \n",
       "C1728        1\n",
       "C1245        1\n",
       "C6100        1\n",
       "C1248        1\n",
       "C2380        1\n",
       "Name: CLASSIFICATION, Length: 71, dtype: int64"
      ]
     },
     "execution_count": 57,
     "metadata": {},
     "output_type": "execute_result"
    }
   ],
   "source": [
    "# Look at CLASSIFICATION value counts for binning\n",
    "class_type_cnts=application_df[\"CLASSIFICATION\"].value_counts(dropna=False)\n",
    "print(type(class_type_cnts))\n",
    "class_type_cnts"
   ]
  },
  {
   "cell_type": "code",
   "execution_count": 58,
   "metadata": {},
   "outputs": [
    {
     "data": {
      "text/plain": [
       "<AxesSubplot:xlabel='CLASSIFICATION', ylabel='Density'>"
      ]
     },
     "execution_count": 58,
     "metadata": {},
     "output_type": "execute_result"
    },
    {
     "data": {
      "image/png": "[encoded data removed]",
      "text/plain": [
       "<Figure size 432x288 with 1 Axes>"
      ]
     },
     "metadata": {
      "needs_background": "light"
     },
     "output_type": "display_data"
    }
   ],
   "source": [
    "# Visualize the value counts of CLASSIFICATION\n",
    "sns.kdeplot(class_type_cnts)"
   ]
  },
  {
   "cell_type": "code",
   "execution_count": 59,
   "metadata": {},
   "outputs": [
    {
     "data": {
      "text/plain": [
       "C1000    17326\n",
       "C2000     6074\n",
       "C1200     4837\n",
       "Other     2261\n",
       "C3000     1918\n",
       "C2100     1883\n",
       "Name: CLASSIFICATION, dtype: int64"
      ]
     },
     "execution_count": 59,
     "metadata": {},
     "output_type": "execute_result"
    }
   ],
   "source": [
    "# Determine which values to replace if counts are less than ..?\n",
    "replace_class=list(class_type_cnts[class_type_cnts<1883].index)\n",
    "\n",
    "# Replace in dataframe\n",
    "for cls in replace_class:\n",
    "    application_df.CLASSIFICATION = application_df.CLASSIFICATION.replace(cls,\"Other\")\n",
    "    \n",
    "# Check to make sure binning was successful\n",
    "application_df.CLASSIFICATION.value_counts()"
   ]
  },
  {
   "cell_type": "code",
   "execution_count": 60,
   "metadata": {},
   "outputs": [
    {
     "data": {
      "text/plain": [
       "['APPLICATION_TYPE',\n",
       " 'AFFILIATION',\n",
       " 'CLASSIFICATION',\n",
       " 'USE_CASE',\n",
       " 'ORGANIZATION',\n",
       " 'INCOME_AMT',\n",
       " 'SPECIAL_CONSIDERATIONS']"
      ]
     },
     "execution_count": 60,
     "metadata": {},
     "output_type": "execute_result"
    }
   ],
   "source": [
    "# Generate our categorical variable lists\n",
    "application_cat =application_df.dtypes[application_df.dtypes ==\"object\"].index.tolist()\n",
    "application_cat"
   ]
  },
  {
   "cell_type": "code",
   "execution_count": 61,
   "metadata": {},
   "outputs": [
    {
     "name": "stdout",
     "output_type": "stream",
     "text": [
      "RangeIndex(start=0, stop=41, step=1)\n",
      "    0    1    2    3    4    5    6    7    8    9   ...   31   32   33   34  \\\n",
      "0  0.0  1.0  0.0  0.0  0.0  0.0  0.0  0.0  0.0  0.0  ...  0.0  0.0  0.0  0.0   \n",
      "1  0.0  0.0  0.0  1.0  0.0  0.0  0.0  0.0  0.0  0.0  ...  1.0  0.0  0.0  0.0   \n",
      "2  0.0  0.0  0.0  0.0  0.0  1.0  0.0  0.0  0.0  1.0  ...  0.0  0.0  0.0  0.0   \n",
      "3  0.0  0.0  0.0  1.0  0.0  0.0  0.0  0.0  0.0  1.0  ...  0.0  1.0  0.0  0.0   \n",
      "4  0.0  0.0  0.0  1.0  0.0  0.0  0.0  0.0  0.0  0.0  ...  0.0  0.0  1.0  0.0   \n",
      "\n",
      "    35   36   37   38   39   40  \n",
      "0  0.0  0.0  0.0  0.0  1.0  0.0  \n",
      "1  0.0  0.0  0.0  0.0  1.0  0.0  \n",
      "2  0.0  0.0  0.0  0.0  1.0  0.0  \n",
      "3  0.0  0.0  0.0  0.0  1.0  0.0  \n",
      "4  0.0  0.0  0.0  0.0  1.0  0.0  \n",
      "\n",
      "[5 rows x 41 columns]\n",
      "Index(['APPLICATION_TYPE_Other', 'APPLICATION_TYPE_T10',\n",
      "       'APPLICATION_TYPE_T19', 'APPLICATION_TYPE_T3', 'APPLICATION_TYPE_T4',\n",
      "       'APPLICATION_TYPE_T5', 'APPLICATION_TYPE_T6', 'APPLICATION_TYPE_T7',\n",
      "       'APPLICATION_TYPE_T8', 'AFFILIATION_CompanySponsored',\n",
      "       'AFFILIATION_Family/Parent', 'AFFILIATION_Independent',\n",
      "       'AFFILIATION_National', 'AFFILIATION_Other', 'AFFILIATION_Regional',\n",
      "       'CLASSIFICATION_C1000', 'CLASSIFICATION_C1200', 'CLASSIFICATION_C2000',\n",
      "       'CLASSIFICATION_C2100', 'CLASSIFICATION_C3000', 'CLASSIFICATION_Other',\n",
      "       'USE_CASE_CommunityServ', 'USE_CASE_Heathcare', 'USE_CASE_Other',\n",
      "       'USE_CASE_Preservation', 'USE_CASE_ProductDev',\n",
      "       'ORGANIZATION_Association', 'ORGANIZATION_Co-operative',\n",
      "       'ORGANIZATION_Corporation', 'ORGANIZATION_Trust', 'INCOME_AMT_0',\n",
      "       'INCOME_AMT_1-9999', 'INCOME_AMT_10000-24999',\n",
      "       'INCOME_AMT_100000-499999', 'INCOME_AMT_10M-50M', 'INCOME_AMT_1M-5M',\n",
      "       'INCOME_AMT_25000-99999', 'INCOME_AMT_50M+', 'INCOME_AMT_5M-10M',\n",
      "       'SPECIAL_CONSIDERATIONS_N', 'SPECIAL_CONSIDERATIONS_Y'],\n",
      "      dtype='object')\n",
      "   APPLICATION_TYPE_Other  APPLICATION_TYPE_T10  APPLICATION_TYPE_T19  \\\n",
      "0                     0.0                   1.0                   0.0   \n",
      "1                     0.0                   0.0                   0.0   \n",
      "2                     0.0                   0.0                   0.0   \n",
      "3                     0.0                   0.0                   0.0   \n",
      "4                     0.0                   0.0                   0.0   \n",
      "\n",
      "   APPLICATION_TYPE_T3  APPLICATION_TYPE_T4  APPLICATION_TYPE_T5  \\\n",
      "0                  0.0                  0.0                  0.0   \n",
      "1                  1.0                  0.0                  0.0   \n",
      "2                  0.0                  0.0                  1.0   \n",
      "3                  1.0                  0.0                  0.0   \n",
      "4                  1.0                  0.0                  0.0   \n",
      "\n",
      "   APPLICATION_TYPE_T6  APPLICATION_TYPE_T7  APPLICATION_TYPE_T8  \\\n",
      "0                  0.0                  0.0                  0.0   \n",
      "1                  0.0                  0.0                  0.0   \n",
      "2                  0.0                  0.0                  0.0   \n",
      "3                  0.0                  0.0                  0.0   \n",
      "4                  0.0                  0.0                  0.0   \n",
      "\n",
      "   AFFILIATION_CompanySponsored  ...  INCOME_AMT_1-9999  \\\n",
      "0                           0.0  ...                0.0   \n",
      "1                           0.0  ...                1.0   \n",
      "2                           1.0  ...                0.0   \n",
      "3                           1.0  ...                0.0   \n",
      "4                           0.0  ...                0.0   \n",
      "\n",
      "   INCOME_AMT_10000-24999  INCOME_AMT_100000-499999  INCOME_AMT_10M-50M  \\\n",
      "0                     0.0                       0.0                 0.0   \n",
      "1                     0.0                       0.0                 0.0   \n",
      "2                     0.0                       0.0                 0.0   \n",
      "3                     1.0                       0.0                 0.0   \n",
      "4                     0.0                       1.0                 0.0   \n",
      "\n",
      "   INCOME_AMT_1M-5M  INCOME_AMT_25000-99999  INCOME_AMT_50M+  \\\n",
      "0               0.0                     0.0              0.0   \n",
      "1               0.0                     0.0              0.0   \n",
      "2               0.0                     0.0              0.0   \n",
      "3               0.0                     0.0              0.0   \n",
      "4               0.0                     0.0              0.0   \n",
      "\n",
      "   INCOME_AMT_5M-10M  SPECIAL_CONSIDERATIONS_N  SPECIAL_CONSIDERATIONS_Y  \n",
      "0                0.0                       1.0                       0.0  \n",
      "1                0.0                       1.0                       0.0  \n",
      "2                0.0                       1.0                       0.0  \n",
      "3                0.0                       1.0                       0.0  \n",
      "4                0.0                       1.0                       0.0  \n",
      "\n",
      "[5 rows x 41 columns]\n"
     ]
    }
   ],
   "source": [
    "# Create a OneHotEncoder instance\n",
    "enc = OneHotEncoder(sparse=False)\n",
    "\n",
    "# Fit and transform the OneHotEncoder using the categorical variable list\n",
    "encode_df =pd.DataFrame(enc.fit_transform(application_df[application_cat]))\n",
    "print(encode_df.columns)   #columns are a rangeIndex that need to be replaced by real names\n",
    "print(encode_df.head())\n",
    "# Add the encoded variable names to the dataframe\n",
    "encode_df.columns = enc.get_feature_names(application_cat)\n",
    "print(encode_df.columns)\n",
    "print(encode_df.head())"
   ]
  },
  {
   "cell_type": "code",
   "execution_count": 62,
   "metadata": {},
   "outputs": [
    {
     "data": {
      "text/html": [
       "<div>\n",
       "<style scoped>\n",
       "    .dataframe tbody tr th:only-of-type {\n",
       "        vertical-align: middle;\n",
       "    }\n",
       "\n",
       "    .dataframe tbody tr th {\n",
       "        vertical-align: top;\n",
       "    }\n",
       "\n",
       "    .dataframe thead th {\n",
       "        text-align: right;\n",
       "    }\n",
       "</style>\n",
       "<table border=\"1\" class=\"dataframe\">\n",
       "  <thead>\n",
       "    <tr style=\"text-align: right;\">\n",
       "      <th></th>\n",
       "      <th>STATUS</th>\n",
       "      <th>ASK_AMT</th>\n",
       "      <th>IS_SUCCESSFUL</th>\n",
       "      <th>APPLICATION_TYPE_Other</th>\n",
       "      <th>APPLICATION_TYPE_T10</th>\n",
       "      <th>APPLICATION_TYPE_T19</th>\n",
       "      <th>APPLICATION_TYPE_T3</th>\n",
       "      <th>APPLICATION_TYPE_T4</th>\n",
       "      <th>APPLICATION_TYPE_T5</th>\n",
       "      <th>APPLICATION_TYPE_T6</th>\n",
       "      <th>...</th>\n",
       "      <th>INCOME_AMT_1-9999</th>\n",
       "      <th>INCOME_AMT_10000-24999</th>\n",
       "      <th>INCOME_AMT_100000-499999</th>\n",
       "      <th>INCOME_AMT_10M-50M</th>\n",
       "      <th>INCOME_AMT_1M-5M</th>\n",
       "      <th>INCOME_AMT_25000-99999</th>\n",
       "      <th>INCOME_AMT_50M+</th>\n",
       "      <th>INCOME_AMT_5M-10M</th>\n",
       "      <th>SPECIAL_CONSIDERATIONS_N</th>\n",
       "      <th>SPECIAL_CONSIDERATIONS_Y</th>\n",
       "    </tr>\n",
       "  </thead>\n",
       "  <tbody>\n",
       "    <tr>\n",
       "      <th>0</th>\n",
       "      <td>1</td>\n",
       "      <td>5000</td>\n",
       "      <td>1</td>\n",
       "      <td>0.0</td>\n",
       "      <td>1.0</td>\n",
       "      <td>0.0</td>\n",
       "      <td>0.0</td>\n",
       "      <td>0.0</td>\n",
       "      <td>0.0</td>\n",
       "      <td>0.0</td>\n",
       "      <td>...</td>\n",
       "      <td>0.0</td>\n",
       "      <td>0.0</td>\n",
       "      <td>0.0</td>\n",
       "      <td>0.0</td>\n",
       "      <td>0.0</td>\n",
       "      <td>0.0</td>\n",
       "      <td>0.0</td>\n",
       "      <td>0.0</td>\n",
       "      <td>1.0</td>\n",
       "      <td>0.0</td>\n",
       "    </tr>\n",
       "    <tr>\n",
       "      <th>1</th>\n",
       "      <td>1</td>\n",
       "      <td>108590</td>\n",
       "      <td>1</td>\n",
       "      <td>0.0</td>\n",
       "      <td>0.0</td>\n",
       "      <td>0.0</td>\n",
       "      <td>1.0</td>\n",
       "      <td>0.0</td>\n",
       "      <td>0.0</td>\n",
       "      <td>0.0</td>\n",
       "      <td>...</td>\n",
       "      <td>1.0</td>\n",
       "      <td>0.0</td>\n",
       "      <td>0.0</td>\n",
       "      <td>0.0</td>\n",
       "      <td>0.0</td>\n",
       "      <td>0.0</td>\n",
       "      <td>0.0</td>\n",
       "      <td>0.0</td>\n",
       "      <td>1.0</td>\n",
       "      <td>0.0</td>\n",
       "    </tr>\n",
       "    <tr>\n",
       "      <th>2</th>\n",
       "      <td>1</td>\n",
       "      <td>5000</td>\n",
       "      <td>0</td>\n",
       "      <td>0.0</td>\n",
       "      <td>0.0</td>\n",
       "      <td>0.0</td>\n",
       "      <td>0.0</td>\n",
       "      <td>0.0</td>\n",
       "      <td>1.0</td>\n",
       "      <td>0.0</td>\n",
       "      <td>...</td>\n",
       "      <td>0.0</td>\n",
       "      <td>0.0</td>\n",
       "      <td>0.0</td>\n",
       "      <td>0.0</td>\n",
       "      <td>0.0</td>\n",
       "      <td>0.0</td>\n",
       "      <td>0.0</td>\n",
       "      <td>0.0</td>\n",
       "      <td>1.0</td>\n",
       "      <td>0.0</td>\n",
       "    </tr>\n",
       "    <tr>\n",
       "      <th>3</th>\n",
       "      <td>1</td>\n",
       "      <td>6692</td>\n",
       "      <td>1</td>\n",
       "      <td>0.0</td>\n",
       "      <td>0.0</td>\n",
       "      <td>0.0</td>\n",
       "      <td>1.0</td>\n",
       "      <td>0.0</td>\n",
       "      <td>0.0</td>\n",
       "      <td>0.0</td>\n",
       "      <td>...</td>\n",
       "      <td>0.0</td>\n",
       "      <td>1.0</td>\n",
       "      <td>0.0</td>\n",
       "      <td>0.0</td>\n",
       "      <td>0.0</td>\n",
       "      <td>0.0</td>\n",
       "      <td>0.0</td>\n",
       "      <td>0.0</td>\n",
       "      <td>1.0</td>\n",
       "      <td>0.0</td>\n",
       "    </tr>\n",
       "    <tr>\n",
       "      <th>4</th>\n",
       "      <td>1</td>\n",
       "      <td>142590</td>\n",
       "      <td>1</td>\n",
       "      <td>0.0</td>\n",
       "      <td>0.0</td>\n",
       "      <td>0.0</td>\n",
       "      <td>1.0</td>\n",
       "      <td>0.0</td>\n",
       "      <td>0.0</td>\n",
       "      <td>0.0</td>\n",
       "      <td>...</td>\n",
       "      <td>0.0</td>\n",
       "      <td>0.0</td>\n",
       "      <td>1.0</td>\n",
       "      <td>0.0</td>\n",
       "      <td>0.0</td>\n",
       "      <td>0.0</td>\n",
       "      <td>0.0</td>\n",
       "      <td>0.0</td>\n",
       "      <td>1.0</td>\n",
       "      <td>0.0</td>\n",
       "    </tr>\n",
       "  </tbody>\n",
       "</table>\n",
       "<p>5 rows × 44 columns</p>\n",
       "</div>"
      ],
      "text/plain": [
       "   STATUS  ASK_AMT  IS_SUCCESSFUL  APPLICATION_TYPE_Other  \\\n",
       "0       1     5000              1                     0.0   \n",
       "1       1   108590              1                     0.0   \n",
       "2       1     5000              0                     0.0   \n",
       "3       1     6692              1                     0.0   \n",
       "4       1   142590              1                     0.0   \n",
       "\n",
       "   APPLICATION_TYPE_T10  APPLICATION_TYPE_T19  APPLICATION_TYPE_T3  \\\n",
       "0                   1.0                   0.0                  0.0   \n",
       "1                   0.0                   0.0                  1.0   \n",
       "2                   0.0                   0.0                  0.0   \n",
       "3                   0.0                   0.0                  1.0   \n",
       "4                   0.0                   0.0                  1.0   \n",
       "\n",
       "   APPLICATION_TYPE_T4  APPLICATION_TYPE_T5  APPLICATION_TYPE_T6  ...  \\\n",
       "0                  0.0                  0.0                  0.0  ...   \n",
       "1                  0.0                  0.0                  0.0  ...   \n",
       "2                  0.0                  1.0                  0.0  ...   \n",
       "3                  0.0                  0.0                  0.0  ...   \n",
       "4                  0.0                  0.0                  0.0  ...   \n",
       "\n",
       "   INCOME_AMT_1-9999  INCOME_AMT_10000-24999  INCOME_AMT_100000-499999  \\\n",
       "0                0.0                     0.0                       0.0   \n",
       "1                1.0                     0.0                       0.0   \n",
       "2                0.0                     0.0                       0.0   \n",
       "3                0.0                     1.0                       0.0   \n",
       "4                0.0                     0.0                       1.0   \n",
       "\n",
       "   INCOME_AMT_10M-50M  INCOME_AMT_1M-5M  INCOME_AMT_25000-99999  \\\n",
       "0                 0.0               0.0                     0.0   \n",
       "1                 0.0               0.0                     0.0   \n",
       "2                 0.0               0.0                     0.0   \n",
       "3                 0.0               0.0                     0.0   \n",
       "4                 0.0               0.0                     0.0   \n",
       "\n",
       "   INCOME_AMT_50M+  INCOME_AMT_5M-10M  SPECIAL_CONSIDERATIONS_N  \\\n",
       "0              0.0                0.0                       1.0   \n",
       "1              0.0                0.0                       1.0   \n",
       "2              0.0                0.0                       1.0   \n",
       "3              0.0                0.0                       1.0   \n",
       "4              0.0                0.0                       1.0   \n",
       "\n",
       "   SPECIAL_CONSIDERATIONS_Y  \n",
       "0                       0.0  \n",
       "1                       0.0  \n",
       "2                       0.0  \n",
       "3                       0.0  \n",
       "4                       0.0  \n",
       "\n",
       "[5 rows x 44 columns]"
      ]
     },
     "execution_count": 62,
     "metadata": {},
     "output_type": "execute_result"
    }
   ],
   "source": [
    "# Merge one-hot encoded features and drop the originals\n",
    "application_df =application_df.merge(encode_df,left_index=True,right_index=True)\n",
    "application_df =application_df.drop(application_cat,1)\n",
    "application_df.head()"
   ]
  },
  {
   "cell_type": "code",
   "execution_count": 63,
   "metadata": {},
   "outputs": [],
   "source": [
    "# Split our preprocessed data into our features and target arrays\n",
    "y =application_df[\"IS_SUCCESSFUL\"].values\n",
    "X =application_df.drop([\"IS_SUCCESSFUL\"],1).values\n",
    "\n",
    "# Split the preprocessed data into a training and testing dataset\n",
    "X_train,X_test,y_train,y_test =train_test_split(X,y,random_state=78)"
   ]
  },
  {
   "cell_type": "code",
   "execution_count": 64,
   "metadata": {},
   "outputs": [],
   "source": [
    "# Create a StandardScaler instances\n",
    "scaler = StandardScaler()\n",
    "\n",
    "# Fit the StandardScaler\n",
    "X_scaler = scaler.fit(X_train)\n",
    "\n",
    "# Scale the data\n",
    "X_train_scaled = X_scaler.transform(X_train)\n",
    "X_test_scaled = X_scaler.transform(X_test)"
   ]
  },
  {
   "cell_type": "markdown",
   "metadata": {},
   "source": [
    "### Deliverable 2: Compile, Train and Evaluate the Model"
   ]
  },
  {
   "cell_type": "code",
   "execution_count": 65,
   "metadata": {},
   "outputs": [
    {
     "name": "stdout",
     "output_type": "stream",
     "text": [
      "Model: \"sequential_2\"\n",
      "_________________________________________________________________\n",
      "Layer (type)                 Output Shape              Param #   \n",
      "=================================================================\n",
      "dense_6 (Dense)              (None, 80)                3520      \n",
      "_________________________________________________________________\n",
      "dense_7 (Dense)              (None, 30)                2430      \n",
      "_________________________________________________________________\n",
      "dense_8 (Dense)              (None, 1)                 31        \n",
      "=================================================================\n",
      "Total params: 5,981\n",
      "Trainable params: 5,981\n",
      "Non-trainable params: 0\n",
      "_________________________________________________________________\n"
     ]
    }
   ],
   "source": [
    "# Define the model - deep neural net, i.e., the number of input features and hidden nodes for each layer.\n",
    "# number of input features = 43 columns in X, suggests 86-129 nodes in hidden layers\n",
    "number_input_features =len(X_train[0])\n",
    "hidden_nodes_layer1 =80\n",
    "hidden_nodes_layer2 = 30\n",
    "nn = tf.keras.models.Sequential()\n",
    "\n",
    "# 43 input features\n",
    "# weight parameters for each layer = number of input values times the number of neurons + bias term. bias=# neurons\n",
    "\n",
    "# First hidden layer\n",
    "nn.add(tf.keras.layers.Dense(units=hidden_nodes_layer1,input_dim=number_input_features,activation=\"relu\"))\n",
    "\n",
    "# # Second hidden layer\n",
    "nn.add(tf.keras.layers.Dense(units=hidden_nodes_layer2,activation=\"relu\"))\n",
    "\n",
    "# Output layer\n",
    "nn.add(tf.keras.layers.Dense(units=1,activation=\"sigmoid\"))\n",
    "\n",
    "# Check the structure of the model\n",
    "nn.summary()"
   ]
  },
  {
   "cell_type": "code",
   "execution_count": 66,
   "metadata": {},
   "outputs": [],
   "source": [
    "# Compile the model\n",
    "nn.compile(loss=\"binary_crossentropy\",optimizer=\"adam\",metrics=[\"accuracy\"])"
   ]
  },
  {
   "cell_type": "code",
   "execution_count": 67,
   "metadata": {},
   "outputs": [],
   "source": [
    "# # Import checkpoint dependencies\n",
    "# import os\n",
    "# from tensorflow.keras.callbacks import ModelCheckpoint\n",
    "\n",
    "# # Define the checkpoint path and filenames\n",
    "# os.makedirs(\"checkpoints/\",exist_ok=True)\n",
    "# checkpoint_path =\"checkpoints/weights.{epoch:02d}.hdf5\"\n",
    "\n",
    "# # Create a callback that saves the model's weights every epoch\n",
    "# cp_callback =ModelCheckpoint(filepath=checkpoint_path,verbose=1,save_weights_only=True)"
   ]
  },
  {
   "cell_type": "code",
   "execution_count": 68,
   "metadata": {},
   "outputs": [
    {
     "name": "stdout",
     "output_type": "stream",
     "text": [
      "Epoch 1/100\n",
      "804/804 [==============================] - 0s 499us/step - loss: 0.5688 - accuracy: 0.7233\n",
      "Epoch 2/100\n",
      "804/804 [==============================] - 0s 503us/step - loss: 0.5550 - accuracy: 0.7289\n",
      "Epoch 3/100\n",
      "804/804 [==============================] - 0s 505us/step - loss: 0.5533 - accuracy: 0.7309\n",
      "Epoch 4/100\n",
      "804/804 [==============================] - 0s 527us/step - loss: 0.5509 - accuracy: 0.7308\n",
      "Epoch 5/100\n",
      "804/804 [==============================] - 0s 500us/step - loss: 0.5504 - accuracy: 0.7327\n",
      "Epoch 6/100\n",
      "804/804 [==============================] - 0s 512us/step - loss: 0.5478 - accuracy: 0.7339\n",
      "Epoch 7/100\n",
      "804/804 [==============================] - 0s 495us/step - loss: 0.5484 - accuracy: 0.7327\n",
      "Epoch 8/100\n",
      "804/804 [==============================] - 0s 514us/step - loss: 0.5483 - accuracy: 0.7333\n",
      "Epoch 9/100\n",
      "804/804 [==============================] - 0s 502us/step - loss: 0.5469 - accuracy: 0.7335\n",
      "Epoch 10/100\n",
      "804/804 [==============================] - 0s 504us/step - loss: 0.5468 - accuracy: 0.7337\n",
      "Epoch 11/100\n",
      "804/804 [==============================] - 0s 504us/step - loss: 0.5460 - accuracy: 0.7346\n",
      "Epoch 12/100\n",
      "804/804 [==============================] - 0s 504us/step - loss: 0.5460 - accuracy: 0.7350\n",
      "Epoch 13/100\n",
      "804/804 [==============================] - 0s 501us/step - loss: 0.5454 - accuracy: 0.7355\n",
      "Epoch 14/100\n",
      "804/804 [==============================] - 0s 552us/step - loss: 0.5450 - accuracy: 0.7353\n",
      "Epoch 15/100\n",
      "804/804 [==============================] - 0s 502us/step - loss: 0.5453 - accuracy: 0.7349\n",
      "Epoch 16/100\n",
      "804/804 [==============================] - 0s 502us/step - loss: 0.5438 - accuracy: 0.7367\n",
      "Epoch 17/100\n",
      "804/804 [==============================] - 0s 507us/step - loss: 0.5444 - accuracy: 0.7359\n",
      "Epoch 18/100\n",
      "804/804 [==============================] - 0s 499us/step - loss: 0.5435 - accuracy: 0.7367\n",
      "Epoch 19/100\n",
      "804/804 [==============================] - 0s 543us/step - loss: 0.5434 - accuracy: 0.7353\n",
      "Epoch 20/100\n",
      "804/804 [==============================] - 0s 525us/step - loss: 0.5433 - accuracy: 0.7373\n",
      "Epoch 21/100\n",
      "804/804 [==============================] - 0s 505us/step - loss: 0.5433 - accuracy: 0.7364\n",
      "Epoch 22/100\n",
      "804/804 [==============================] - 0s 504us/step - loss: 0.5432 - accuracy: 0.7369\n",
      "Epoch 23/100\n",
      "804/804 [==============================] - 0s 493us/step - loss: 0.5425 - accuracy: 0.7376\n",
      "Epoch 24/100\n",
      "804/804 [==============================] - 0s 501us/step - loss: 0.5428 - accuracy: 0.7374\n",
      "Epoch 25/100\n",
      "804/804 [==============================] - 0s 496us/step - loss: 0.5421 - accuracy: 0.7370\n",
      "Epoch 26/100\n",
      "804/804 [==============================] - 0s 525us/step - loss: 0.5425 - accuracy: 0.7371\n",
      "Epoch 27/100\n",
      "804/804 [==============================] - 0s 520us/step - loss: 0.5422 - accuracy: 0.7373\n",
      "Epoch 28/100\n",
      "804/804 [==============================] - 0s 507us/step - loss: 0.5426 - accuracy: 0.7371\n",
      "Epoch 29/100\n",
      "804/804 [==============================] - 0s 512us/step - loss: 0.5413 - accuracy: 0.7379\n",
      "Epoch 30/100\n",
      "804/804 [==============================] - 0s 504us/step - loss: 0.5418 - accuracy: 0.7385\n",
      "Epoch 31/100\n",
      "804/804 [==============================] - 0s 509us/step - loss: 0.5415 - accuracy: 0.7379\n",
      "Epoch 32/100\n",
      "804/804 [==============================] - 0s 512us/step - loss: 0.5408 - accuracy: 0.7370\n",
      "Epoch 33/100\n",
      "804/804 [==============================] - 0s 520us/step - loss: 0.5416 - accuracy: 0.7383\n",
      "Epoch 34/100\n",
      "804/804 [==============================] - 0s 499us/step - loss: 0.5412 - accuracy: 0.7380\n",
      "Epoch 35/100\n",
      "804/804 [==============================] - 0s 500us/step - loss: 0.5407 - accuracy: 0.7385\n",
      "Epoch 36/100\n",
      "804/804 [==============================] - 0s 505us/step - loss: 0.5407 - accuracy: 0.7376\n",
      "Epoch 37/100\n",
      "804/804 [==============================] - 0s 499us/step - loss: 0.5407 - accuracy: 0.7383\n",
      "Epoch 38/100\n",
      "804/804 [==============================] - 0s 502us/step - loss: 0.5402 - accuracy: 0.7383\n",
      "Epoch 39/100\n",
      "804/804 [==============================] - 0s 495us/step - loss: 0.5407 - accuracy: 0.7385\n",
      "Epoch 40/100\n",
      "804/804 [==============================] - 0s 522us/step - loss: 0.5405 - accuracy: 0.7390\n",
      "Epoch 41/100\n",
      "804/804 [==============================] - 0s 515us/step - loss: 0.5399 - accuracy: 0.7390\n",
      "Epoch 42/100\n",
      "804/804 [==============================] - 0s 525us/step - loss: 0.5401 - accuracy: 0.7380\n",
      "Epoch 43/100\n",
      "804/804 [==============================] - 0s 511us/step - loss: 0.5400 - accuracy: 0.7385\n",
      "Epoch 44/100\n",
      "804/804 [==============================] - 0s 512us/step - loss: 0.5399 - accuracy: 0.7395\n",
      "Epoch 45/100\n",
      "804/804 [==============================] - 0s 523us/step - loss: 0.5397 - accuracy: 0.7388\n",
      "Epoch 46/100\n",
      "804/804 [==============================] - 0s 509us/step - loss: 0.5396 - accuracy: 0.7399\n",
      "Epoch 47/100\n",
      "804/804 [==============================] - 0s 574us/step - loss: 0.5400 - accuracy: 0.7383\n",
      "Epoch 48/100\n",
      "804/804 [==============================] - 0s 530us/step - loss: 0.5394 - accuracy: 0.7388\n",
      "Epoch 49/100\n",
      "804/804 [==============================] - 0s 495us/step - loss: 0.5391 - accuracy: 0.7393\n",
      "Epoch 50/100\n",
      "804/804 [==============================] - 0s 517us/step - loss: 0.5390 - accuracy: 0.7390\n",
      "Epoch 51/100\n",
      "804/804 [==============================] - 0s 530us/step - loss: 0.5391 - accuracy: 0.7393\n",
      "Epoch 52/100\n",
      "804/804 [==============================] - 0s 522us/step - loss: 0.5388 - accuracy: 0.7396\n",
      "Epoch 53/100\n",
      "804/804 [==============================] - 0s 526us/step - loss: 0.5388 - accuracy: 0.7391\n",
      "Epoch 54/100\n",
      "804/804 [==============================] - 0s 550us/step - loss: 0.5391 - accuracy: 0.7393\n",
      "Epoch 55/100\n",
      "804/804 [==============================] - 0s 553us/step - loss: 0.5388 - accuracy: 0.7394\n",
      "Epoch 56/100\n",
      "804/804 [==============================] - 0s 535us/step - loss: 0.5382 - accuracy: 0.7400\n",
      "Epoch 57/100\n",
      "804/804 [==============================] - 0s 528us/step - loss: 0.5387 - accuracy: 0.7397\n",
      "Epoch 58/100\n",
      "804/804 [==============================] - 0s 512us/step - loss: 0.5383 - accuracy: 0.7390\n",
      "Epoch 59/100\n",
      "804/804 [==============================] - 0s 515us/step - loss: 0.5382 - accuracy: 0.7400\n",
      "Epoch 60/100\n",
      "804/804 [==============================] - 0s 531us/step - loss: 0.5385 - accuracy: 0.7397\n",
      "Epoch 61/100\n",
      "804/804 [==============================] - 0s 548us/step - loss: 0.5384 - accuracy: 0.7400\n",
      "Epoch 62/100\n",
      "804/804 [==============================] - 0s 521us/step - loss: 0.5379 - accuracy: 0.7399\n",
      "Epoch 63/100\n",
      "804/804 [==============================] - 0s 507us/step - loss: 0.5379 - accuracy: 0.7392\n",
      "Epoch 64/100\n",
      "804/804 [==============================] - 0s 511us/step - loss: 0.5377 - accuracy: 0.7400\n",
      "Epoch 65/100\n",
      "804/804 [==============================] - 0s 497us/step - loss: 0.5381 - accuracy: 0.7402\n",
      "Epoch 66/100\n",
      "804/804 [==============================] - 0s 512us/step - loss: 0.5379 - accuracy: 0.7397\n",
      "Epoch 67/100\n",
      "804/804 [==============================] - 0s 517us/step - loss: 0.5377 - accuracy: 0.7402\n",
      "Epoch 68/100\n",
      "804/804 [==============================] - 0s 521us/step - loss: 0.5380 - accuracy: 0.7404\n",
      "Epoch 69/100\n",
      "804/804 [==============================] - 0s 535us/step - loss: 0.5376 - accuracy: 0.7399\n",
      "Epoch 70/100\n",
      "804/804 [==============================] - 0s 537us/step - loss: 0.5371 - accuracy: 0.7397\n",
      "Epoch 71/100\n",
      "804/804 [==============================] - 0s 531us/step - loss: 0.5376 - accuracy: 0.7406\n",
      "Epoch 72/100\n",
      "804/804 [==============================] - 0s 522us/step - loss: 0.5372 - accuracy: 0.7403\n",
      "Epoch 73/100\n",
      "804/804 [==============================] - 0s 512us/step - loss: 0.5369 - accuracy: 0.7400\n",
      "Epoch 74/100\n",
      "804/804 [==============================] - 0s 508us/step - loss: 0.5372 - accuracy: 0.7399\n",
      "Epoch 75/100\n",
      "804/804 [==============================] - 0s 504us/step - loss: 0.5372 - accuracy: 0.7398\n",
      "Epoch 76/100\n",
      "804/804 [==============================] - 0s 517us/step - loss: 0.5369 - accuracy: 0.7409\n",
      "Epoch 77/100\n",
      "804/804 [==============================] - 0s 511us/step - loss: 0.5372 - accuracy: 0.7404\n",
      "Epoch 78/100\n",
      "804/804 [==============================] - 0s 502us/step - loss: 0.5371 - accuracy: 0.7406\n",
      "Epoch 79/100\n",
      "804/804 [==============================] - 0s 507us/step - loss: 0.5366 - accuracy: 0.7413\n",
      "Epoch 80/100\n",
      "804/804 [==============================] - 0s 501us/step - loss: 0.5366 - accuracy: 0.7391\n",
      "Epoch 81/100\n",
      "804/804 [==============================] - 0s 536us/step - loss: 0.5366 - accuracy: 0.7400\n",
      "Epoch 82/100\n",
      "804/804 [==============================] - 0s 530us/step - loss: 0.5369 - accuracy: 0.7401\n",
      "Epoch 83/100\n",
      "804/804 [==============================] - 0s 512us/step - loss: 0.5363 - accuracy: 0.7404\n",
      "Epoch 84/100\n",
      "804/804 [==============================] - 0s 516us/step - loss: 0.5369 - accuracy: 0.7411\n",
      "Epoch 85/100\n",
      "804/804 [==============================] - 0s 525us/step - loss: 0.5367 - accuracy: 0.7403\n",
      "Epoch 86/100\n",
      "804/804 [==============================] - 0s 519us/step - loss: 0.5366 - accuracy: 0.7401\n",
      "Epoch 87/100\n",
      "804/804 [==============================] - 0s 511us/step - loss: 0.5365 - accuracy: 0.7406\n",
      "Epoch 88/100\n",
      "804/804 [==============================] - 0s 515us/step - loss: 0.5364 - accuracy: 0.7401\n",
      "Epoch 89/100\n",
      "804/804 [==============================] - 0s 567us/step - loss: 0.5364 - accuracy: 0.7407\n",
      "Epoch 90/100\n",
      "804/804 [==============================] - 0s 515us/step - loss: 0.5363 - accuracy: 0.7404\n",
      "Epoch 91/100\n",
      "804/804 [==============================] - 0s 513us/step - loss: 0.5363 - accuracy: 0.7405\n",
      "Epoch 92/100\n",
      "804/804 [==============================] - 0s 504us/step - loss: 0.5365 - accuracy: 0.7405\n",
      "Epoch 93/100\n",
      "804/804 [==============================] - 0s 505us/step - loss: 0.5363 - accuracy: 0.7409\n",
      "Epoch 94/100\n",
      "804/804 [==============================] - 0s 515us/step - loss: 0.5361 - accuracy: 0.7411\n",
      "Epoch 95/100\n",
      "804/804 [==============================] - 0s 522us/step - loss: 0.5359 - accuracy: 0.7407\n",
      "Epoch 96/100\n",
      "804/804 [==============================] - 0s 522us/step - loss: 0.5365 - accuracy: 0.7404\n",
      "Epoch 97/100\n",
      "804/804 [==============================] - 0s 514us/step - loss: 0.5358 - accuracy: 0.7409\n",
      "Epoch 98/100\n",
      "804/804 [==============================] - 0s 504us/step - loss: 0.5355 - accuracy: 0.7411\n",
      "Epoch 99/100\n",
      "804/804 [==============================] - 0s 511us/step - loss: 0.5356 - accuracy: 0.7410\n",
      "Epoch 100/100\n",
      "804/804 [==============================] - 0s 516us/step - loss: 0.5363 - accuracy: 0.7408\n"
     ]
    }
   ],
   "source": [
    "# Train the model\n",
    "fit_model =nn.fit(X_train_scaled,y_train,epochs=100)"
   ]
  },
  {
   "cell_type": "code",
   "execution_count": 70,
   "metadata": {},
   "outputs": [
    {
     "name": "stdout",
     "output_type": "stream",
     "text": [
      "268/268 - 0s - loss: 0.5569 - accuracy: 0.7262\n",
      "Loss: 0.5568874478340149, Accuracy: 0.7261807322502136\n"
     ]
    }
   ],
   "source": [
    "# Evaluate the model using the test data\n",
    "model_loss, model_accuracy = nn.evaluate(X_test_scaled,y_test,verbose=2)\n",
    "print(f\"Loss: {model_loss}, Accuracy: {model_accuracy}\")"
   ]
  },
  {
   "cell_type": "code",
   "execution_count": 23,
   "metadata": {},
   "outputs": [
    {
     "data": {
      "text/plain": [
       "<AxesSubplot:>"
      ]
     },
     "execution_count": 23,
     "metadata": {},
     "output_type": "execute_result"
    },
    {
     "data": {
      "image/png": "[encoded data removed]",
      "text/plain": [
       "<Figure size 432x288 with 1 Axes>"
      ]
     },
     "metadata": {
      "needs_background": "light"
     },
     "output_type": "display_data"
    }
   ],
   "source": [
    "# Create a DataFrame containing training history\n",
    "history_df =pd.DataFrame(fit_model.history,index=range(1,len(fit_model.history[\"loss\"])+1))\n",
    "# Plot the loss\n",
    "history_df.plot(y=\"loss\")\n"
   ]
  },
  {
   "cell_type": "code",
   "execution_count": 24,
   "metadata": {},
   "outputs": [
    {
     "data": {
      "text/plain": [
       "<AxesSubplot:>"
      ]
     },
     "execution_count": 24,
     "metadata": {},
     "output_type": "execute_result"
    },
    {
     "data": {
      "image/png": "[encoded data removed]",
      "text/plain": [
       "<Figure size 432x288 with 1 Axes>"
      ]
     },
     "metadata": {
      "needs_background": "light"
     },
     "output_type": "display_data"
    }
   ],
   "source": [
    "# Plot the accuracy\n",
    "history_df.plot(y=\"accuracy\")"
   ]
  },
  {
   "cell_type": "code",
   "execution_count": 26,
   "metadata": {},
   "outputs": [],
   "source": [
    "# Export our model to HDF5 file\n",
    "nn.save(\"trained_charity_model.h5\")"
   ]
  }
 ],
 "metadata": {
  "kernelspec": {
   "display_name": "py37nbext",
   "language": "python",
   "name": "py37nbext"
  },
  "language_info": {
   "codemirror_mode": {
    "name": "ipython",
    "version": 3
   },
   "file_extension": ".py",
   "mimetype": "text/x-python",
   "name": "python",
   "nbconvert_exporter": "python",
   "pygments_lexer": "ipython3",
   "version": "3.7.10"
  }
 },
 "nbformat": 4,
 "nbformat_minor": 2
}
